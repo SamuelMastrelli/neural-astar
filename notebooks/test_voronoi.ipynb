{
 "cells": [
  {
   "cell_type": "code",
   "execution_count": 1,
   "metadata": {},
   "outputs": [
    {
     "name": "stderr",
     "output_type": "stream",
     "text": [
      "/home/sam/Desktop/Tesi/neural-astar/.venv/lib/python3.8/site-packages/tqdm/auto.py:21: TqdmWarning: IProgress not found. Please update jupyter and ipywidgets. See https://ipywidgets.readthedocs.io/en/stable/user_install.html\n",
      "  from .autonotebook import tqdm as notebook_tqdm\n"
     ]
    },
    {
     "ename": "",
     "evalue": "",
     "output_type": "error",
     "traceback": [
      "\u001b[1;31mThe Kernel crashed while executing code in the current cell or a previous cell. \n",
      "\u001b[1;31mPlease review the code in the cell(s) to identify a possible cause of the failure. \n",
      "\u001b[1;31mClick <a href='https://aka.ms/vscodeJupyterKernelCrash'>here</a> for more info. \n",
      "\u001b[1;31mView Jupyter <a href='command:jupyter.viewOutput'>log</a> for further details."
     ]
    }
   ],
   "source": [
    "import numpy as np\n",
    "import pytest\n",
    "import cv2\n",
    "from neural_astar.utils.voronoi_utilities.voronoi_graph_generator import VoronoiGraphGenerator\n",
    "\n",
    "from PIL import Image\n",
    "import torchvision.transforms as transforms\n",
    "import os\n",
    "import torch\n",
    "import matplotlib.pyplot as plt\n",
    "\n",
    "import sys \n",
    "\n",
    "sys.setrecursionlimit(20000)\n",
    "\n",
    "vr = VoronoiGraphGenerator(\"train\", \"house13\", 3)\n",
    "voronoi_bitmap = vr.generate_voronoi_bitmap()\n",
    "graph = vr.get_voronoi_graph()\n",
    "\n",
    "vr.reduce(200, 200)\n",
    "\n",
    "voronoi_bitmap = vr.get_voronoi_graph().get_graph_bitmap()\n",
    "\n",
    "image = Image.open('/home/sam/Desktop/Tesi/neural-astar/src/neural_astar/utils/voronoi_utilities/maps_data/maps/train/house13_floor_3.png' )\n",
    "\n",
    "tr = transforms.Resize(200)\n",
    "res = tr(image)\n",
    "\n",
    "transform = transforms.Compose([\n",
    "        transforms.ToTensor()\n",
    "    ])\n",
    "\n",
    "image_tensor = transform(res) \n",
    "\n",
    "\n",
    "image_tensor = torch.clamp(image_tensor.mean(0), 0, 1)\n",
    "image_tensor[image_tensor<0.9] = 0\n",
    "image_tensor[image_tensor>=0.9] = 1\n",
    "print(image_tensor.unique())\n",
    "\n",
    "plt.imshow(image_tensor)\n",
    "plt.imshow(voronoi_bitmap)"
   ]
  }
 ],
 "metadata": {
  "kernelspec": {
   "display_name": ".venv",
   "language": "python",
   "name": "python3"
  },
  "language_info": {
   "codemirror_mode": {
    "name": "ipython",
    "version": 3
   },
   "file_extension": ".py",
   "mimetype": "text/x-python",
   "name": "python",
   "nbconvert_exporter": "python",
   "pygments_lexer": "ipython3",
   "version": "3.8.18"
  }
 },
 "nbformat": 4,
 "nbformat_minor": 2
}
