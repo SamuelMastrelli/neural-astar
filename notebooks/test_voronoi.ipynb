{
 "cells": [
  {
   "cell_type": "code",
   "execution_count": 3,
   "metadata": {},
   "outputs": [
    {
     "name": "stdout",
     "output_type": "stream",
     "text": [
      "(200, 200)\n"
     ]
    },
    {
     "ename": "TypeError",
     "evalue": "'tuple' object is not callable",
     "output_type": "error",
     "traceback": [
      "\u001b[0;31m---------------------------------------------------------------------------\u001b[0m",
      "\u001b[0;31mTypeError\u001b[0m                                 Traceback (most recent call last)",
      "Cell \u001b[0;32mIn[3], line 39\u001b[0m\n\u001b[1;32m     36\u001b[0m vr\u001b[38;5;241m.\u001b[39mreduce(\u001b[38;5;241m200\u001b[39m, \u001b[38;5;241m200\u001b[39m)\n\u001b[1;32m     38\u001b[0m voronoi_bitmap \u001b[38;5;241m=\u001b[39m vr\u001b[38;5;241m.\u001b[39mget_voronoi_graph()\u001b[38;5;241m.\u001b[39mget_graph_bitmap()\n\u001b[0;32m---> 39\u001b[0m \u001b[38;5;28mprint\u001b[39m(\u001b[43mvoronoi_bitmap\u001b[49m\u001b[38;5;241;43m.\u001b[39;49m\u001b[43mshape\u001b[49m\u001b[43m(\u001b[49m\u001b[43m)\u001b[49m)\n\u001b[1;32m     40\u001b[0m plt\u001b[38;5;241m.\u001b[39mimshow(voronoi_bitmap)\n\u001b[1;32m     42\u001b[0m \u001b[38;5;66;03m# image = Image.open('/home/sam/Desktop/Tesi/neural-astar/src/neural_astar/utils/voronoi_utilities/maps_data/maps/validation/house70_floor_1.png' )\u001b[39;00m\n\u001b[1;32m     43\u001b[0m \n\u001b[1;32m     44\u001b[0m \u001b[38;5;66;03m# tr = transforms.Resize(200)\u001b[39;00m\n\u001b[0;32m   (...)\u001b[0m\n\u001b[1;32m     59\u001b[0m \u001b[38;5;66;03m# plt.imshow(image_tensor)\u001b[39;00m\n\u001b[1;32m     60\u001b[0m \u001b[38;5;66;03m# plt.imshow(voronoi_bitmap)\u001b[39;00m\n",
      "\u001b[0;31mTypeError\u001b[0m: 'tuple' object is not callable"
     ]
    }
   ],
   "source": [
    "import numpy as np\n",
    "import pytest\n",
    "import cv2\n",
    "from neural_astar.utils.voronoi_utilities.voronoi_graph_generator import VoronoiGraphGenerator\n",
    "\n",
    "from PIL import Image\n",
    "import torchvision.transforms as transforms\n",
    "import os\n",
    "import torch\n",
    "import matplotlib.pyplot as plt\n",
    "from skimage.morphology import skeletonize\n",
    "from skimage.util import invert\n",
    "\n",
    "import sys \n",
    "\n",
    "sys.setrecursionlimit(10000)\n",
    "\n",
    "\n",
    "\n",
    "vr = VoronoiGraphGenerator(\"validation\", \"house70\", 1)\n",
    "voronoi_bitmap = vr.generate_voronoi_bitmap()\n",
    "graph = vr.get_voronoi_graph()\n",
    "\n",
    "# res = torch.from_numpy(graph.get_graph_bitmap())\n",
    "# imgres = transforms.Resize(200)(transforms.ToPILImage()(res))\n",
    "# transform = transforms.Compose([\n",
    "#                         transforms.ToTensor()\n",
    "#                     ])\n",
    "# imgres = transform(imgres)[0]\n",
    "\n",
    "# plt.imshow(graph.get_graph_bitmap())\n",
    "\n",
    "\n",
    "\n",
    "\n",
    "vr.reduce(200, 200)\n",
    "\n",
    "voronoi_bitmap = vr.get_voronoi_graph().get_graph_bitmap()\n",
    "print(voronoi_bitmap.shape\n",
    "plt.imshow(voronoi_bitmap)\n",
    "\n",
    "# image = Image.open('/home/sam/Desktop/Tesi/neural-astar/src/neural_astar/utils/voronoi_utilities/maps_data/maps/validation/house70_floor_1.png' )\n",
    "\n",
    "# tr = transforms.Resize(200)\n",
    "# res = tr(image)\n",
    "\n",
    "# transform = transforms.Compose([\n",
    "#         transforms.ToTensor()\n",
    "#     ])\n",
    "\n",
    "# image_tensor = transform(res) \n",
    "\n",
    "\n",
    "# image_tensor = torch.clamp(image_tensor.mean(0), 0, 1)\n",
    "# image_tensor[image_tensor<0.9] = 0\n",
    "# image_tensor[image_tensor>=0.9] = 1\n",
    "# print(image_tensor.unique())\n",
    "\n",
    "# plt.imshow(image_tensor)\n",
    "# plt.imshow(voronoi_bitmap)"
   ]
  }
 ],
 "metadata": {
  "kernelspec": {
   "display_name": ".venv",
   "language": "python",
   "name": "python3"
  },
  "language_info": {
   "codemirror_mode": {
    "name": "ipython",
    "version": 3
   },
   "file_extension": ".py",
   "mimetype": "text/x-python",
   "name": "python",
   "nbconvert_exporter": "python",
   "pygments_lexer": "ipython3",
   "version": "3.8.18"
  }
 },
 "nbformat": 4,
 "nbformat_minor": 2
}
