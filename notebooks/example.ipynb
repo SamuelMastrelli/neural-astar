{
 "cells": [
  {
   "cell_type": "markdown",
   "id": "5c38c3d8-b2af-41fd-ba2b-8d482b540535",
   "metadata": {},
   "source": [
    "### (Optional) Install Neural A* on Colab\n",
    "\n",
    "We highly recommend the use of GPUs for faster training/planning."
   ]
  },
  {
   "cell_type": "code",
   "execution_count": 1,
   "id": "48af7a83-b074-47f1-a1de-cb4da97f6f1d",
   "metadata": {},
   "outputs": [
    {
     "name": "stdout",
     "output_type": "stream",
     "text": [
      "Cloning into 'neural-astar'...\n",
      "remote: Enumerating objects: 424, done.\u001b[K\n",
      "remote: Counting objects: 100% (39/39), done.\u001b[K\n",
      "remote: Compressing objects: 100% (28/28), done.\u001b[K\n",
      "remote: Total 424 (delta 20), reused 11 (delta 11), pack-reused 385\u001b[K\n",
      "Receiving objects: 100% (424/424), 11.23 MiB | 4.22 MiB/s, done.\n",
      "Resolving deltas: 100% (177/177), done.\n",
      "Submodule 'planning-datasets' (https://github.com/omron-sinicx/planning-datasets) registered for path 'planning-datasets'\n",
      "Cloning into '/home/sam/Desktop/Tesi/neural-astar/notebooks/neural-astar/planning-datasets'...\n",
      "remote: Enumerating objects: 51, done.        \n",
      "remote: Counting objects: 100% (10/10), done.        \n",
      "remote: Compressing objects: 100% (8/8), done.        \n",
      "remote: Total 51 (delta 4), reused 4 (delta 2), pack-reused 41        \n",
      "Receiving objects: 100% (51/51), 58.10 MiB | 3.06 MiB/s, done.\n",
      "Resolving deltas: 100% (7/7), done.\n",
      "Submodule path 'planning-datasets': checked out '7f8953c4b0f511c2cc03410abfdb3687d54deafb'\n",
      "Submodule 'data/mpd/original' (https://github.com/mohakbhardwaj/motion_planning_datasets) registered for path 'planning-datasets/data/mpd/original'\n",
      "Cloning into '/home/sam/Desktop/Tesi/neural-astar/notebooks/neural-astar/planning-datasets/data/mpd/original'...\n",
      "remote: Enumerating objects: 6870, done.        \n",
      "remote: Total 6870 (delta 0), reused 0 (delta 0), pack-reused 6870        \n",
      "Receiving objects: 100% (6870/6870), 2.15 MiB | 2.65 MiB/s, done.\n",
      "Resolving deltas: 100% (1126/1126), done.\n",
      "Submodule path 'planning-datasets/data/mpd/original': checked out 'ba1f0871f4201591d76fbb80476b2f957298e693'\n"
     ]
    }
   ],
   "source": [
    "!git clone --recursive https://github.com/omron-sinicx/neural-astar"
   ]
  },
  {
   "cell_type": "code",
   "execution_count": 2,
   "id": "7c736d92-e32a-4db6-84ca-7489745d3bf1",
   "metadata": {},
   "outputs": [
    {
     "name": "stdout",
     "output_type": "stream",
     "text": [
      "/home/sam/Desktop/Tesi/neural-astar/notebooks/neural-astar\n",
      "Requirement already satisfied: pip in /home/sam/Desktop/Tesi/neural-astar/.venv/lib/python3.8/site-packages (24.0)\n",
      "Requirement already satisfied: setuptools in /home/sam/Desktop/Tesi/neural-astar/.venv/lib/python3.8/site-packages (69.5.1)\n",
      "Processing /home/sam/Desktop/Tesi/neural-astar/notebooks/neural-astar\n",
      "  Installing build dependencies ... \u001b[?25ldone\n",
      "\u001b[?25h  Getting requirements to build wheel ... \u001b[?25ldone\n",
      "\u001b[?25h  Preparing metadata (pyproject.toml) ... \u001b[?25ldone\n",
      "\u001b[?25hRequirement already satisfied: torch==1.12.1 in /home/sam/Desktop/Tesi/neural-astar/.venv/lib/python3.8/site-packages (from neural_astar==0.2.0) (1.12.1)\n",
      "Requirement already satisfied: torchvision==0.13.1 in /home/sam/Desktop/Tesi/neural-astar/.venv/lib/python3.8/site-packages (from neural_astar==0.2.0) (0.13.1)\n",
      "Requirement already satisfied: segmentation-models-pytorch==0.3.1 in /home/sam/Desktop/Tesi/neural-astar/.venv/lib/python3.8/site-packages (from neural_astar==0.2.0) (0.3.1)\n",
      "Requirement already satisfied: pqdict==1.2.0 in /home/sam/Desktop/Tesi/neural-astar/.venv/lib/python3.8/site-packages (from neural_astar==0.2.0) (1.2.0)\n",
      "Requirement already satisfied: hydra-core==1.2.0 in /home/sam/Desktop/Tesi/neural-astar/.venv/lib/python3.8/site-packages (from neural_astar==0.2.0) (1.2.0)\n",
      "Requirement already satisfied: numpy>=1.19.2 in /home/sam/Desktop/Tesi/neural-astar/.venv/lib/python3.8/site-packages (from neural_astar==0.2.0) (1.24.4)\n",
      "Requirement already satisfied: tensorboard>=2.5 in /home/sam/Desktop/Tesi/neural-astar/.venv/lib/python3.8/site-packages (from neural_astar==0.2.0) (2.14.0)\n",
      "Requirement already satisfied: moviepy>=1.0.3 in /home/sam/Desktop/Tesi/neural-astar/.venv/lib/python3.8/site-packages (from neural_astar==0.2.0) (1.0.3)\n",
      "Requirement already satisfied: pytorch-lightning==1.8.5.post0 in /home/sam/Desktop/Tesi/neural-astar/.venv/lib/python3.8/site-packages (from neural_astar==0.2.0) (1.8.5.post0)\n",
      "Requirement already satisfied: jupyterlab in /home/sam/Desktop/Tesi/neural-astar/.venv/lib/python3.8/site-packages (from neural_astar==0.2.0) (4.1.6)\n",
      "Requirement already satisfied: matplotlib in /home/sam/Desktop/Tesi/neural-astar/.venv/lib/python3.8/site-packages (from neural_astar==0.2.0) (3.7.5)\n",
      "Requirement already satisfied: tensorboardx in /home/sam/Desktop/Tesi/neural-astar/.venv/lib/python3.8/site-packages (from neural_astar==0.2.0) (2.6.2.2)\n",
      "Requirement already satisfied: omegaconf~=2.2 in /home/sam/Desktop/Tesi/neural-astar/.venv/lib/python3.8/site-packages (from hydra-core==1.2.0->neural_astar==0.2.0) (2.3.0)\n",
      "Requirement already satisfied: antlr4-python3-runtime==4.9.* in /home/sam/Desktop/Tesi/neural-astar/.venv/lib/python3.8/site-packages (from hydra-core==1.2.0->neural_astar==0.2.0) (4.9.3)\n",
      "Requirement already satisfied: packaging in /home/sam/Desktop/Tesi/neural-astar/.venv/lib/python3.8/site-packages (from hydra-core==1.2.0->neural_astar==0.2.0) (24.0)\n",
      "Requirement already satisfied: importlib-resources in /home/sam/Desktop/Tesi/neural-astar/.venv/lib/python3.8/site-packages (from hydra-core==1.2.0->neural_astar==0.2.0) (6.4.0)\n",
      "Requirement already satisfied: six in /home/sam/Desktop/Tesi/neural-astar/.venv/lib/python3.8/site-packages (from pqdict==1.2.0->neural_astar==0.2.0) (1.16.0)\n",
      "Requirement already satisfied: tqdm>=4.57.0 in /home/sam/Desktop/Tesi/neural-astar/.venv/lib/python3.8/site-packages (from pytorch-lightning==1.8.5.post0->neural_astar==0.2.0) (4.66.2)\n",
      "Requirement already satisfied: PyYAML>=5.4 in /home/sam/Desktop/Tesi/neural-astar/.venv/lib/python3.8/site-packages (from pytorch-lightning==1.8.5.post0->neural_astar==0.2.0) (6.0.1)\n",
      "Requirement already satisfied: fsspec>2021.06.0 in /home/sam/Desktop/Tesi/neural-astar/.venv/lib/python3.8/site-packages (from fsspec[http]>2021.06.0->pytorch-lightning==1.8.5.post0->neural_astar==0.2.0) (2024.3.1)\n",
      "Requirement already satisfied: torchmetrics>=0.7.0 in /home/sam/Desktop/Tesi/neural-astar/.venv/lib/python3.8/site-packages (from pytorch-lightning==1.8.5.post0->neural_astar==0.2.0) (1.3.2)\n",
      "Requirement already satisfied: typing-extensions>=4.0.0 in /home/sam/Desktop/Tesi/neural-astar/.venv/lib/python3.8/site-packages (from pytorch-lightning==1.8.5.post0->neural_astar==0.2.0) (4.11.0)\n",
      "Requirement already satisfied: lightning-utilities!=0.4.0,>=0.3.0 in /home/sam/Desktop/Tesi/neural-astar/.venv/lib/python3.8/site-packages (from pytorch-lightning==1.8.5.post0->neural_astar==0.2.0) (0.11.2)\n",
      "Requirement already satisfied: pretrainedmodels==0.7.4 in /home/sam/Desktop/Tesi/neural-astar/.venv/lib/python3.8/site-packages (from segmentation-models-pytorch==0.3.1->neural_astar==0.2.0) (0.7.4)\n",
      "Requirement already satisfied: efficientnet-pytorch==0.7.1 in /home/sam/Desktop/Tesi/neural-astar/.venv/lib/python3.8/site-packages (from segmentation-models-pytorch==0.3.1->neural_astar==0.2.0) (0.7.1)\n",
      "Requirement already satisfied: timm==0.4.12 in /home/sam/Desktop/Tesi/neural-astar/.venv/lib/python3.8/site-packages (from segmentation-models-pytorch==0.3.1->neural_astar==0.2.0) (0.4.12)\n",
      "Requirement already satisfied: pillow in /home/sam/Desktop/Tesi/neural-astar/.venv/lib/python3.8/site-packages (from segmentation-models-pytorch==0.3.1->neural_astar==0.2.0) (10.3.0)\n",
      "Requirement already satisfied: requests in /home/sam/Desktop/Tesi/neural-astar/.venv/lib/python3.8/site-packages (from torchvision==0.13.1->neural_astar==0.2.0) (2.31.0)\n",
      "Requirement already satisfied: munch in /home/sam/Desktop/Tesi/neural-astar/.venv/lib/python3.8/site-packages (from pretrainedmodels==0.7.4->segmentation-models-pytorch==0.3.1->neural_astar==0.2.0) (4.0.0)\n",
      "Requirement already satisfied: decorator<5.0,>=4.0.2 in /home/sam/Desktop/Tesi/neural-astar/.venv/lib/python3.8/site-packages (from moviepy>=1.0.3->neural_astar==0.2.0) (4.4.2)\n",
      "Requirement already satisfied: proglog<=1.0.0 in /home/sam/Desktop/Tesi/neural-astar/.venv/lib/python3.8/site-packages (from moviepy>=1.0.3->neural_astar==0.2.0) (0.1.10)\n",
      "Requirement already satisfied: imageio<3.0,>=2.5 in /home/sam/Desktop/Tesi/neural-astar/.venv/lib/python3.8/site-packages (from moviepy>=1.0.3->neural_astar==0.2.0) (2.34.0)\n",
      "Requirement already satisfied: imageio_ffmpeg>=0.2.0 in /home/sam/Desktop/Tesi/neural-astar/.venv/lib/python3.8/site-packages (from moviepy>=1.0.3->neural_astar==0.2.0) (0.4.9)\n",
      "Requirement already satisfied: absl-py>=0.4 in /home/sam/Desktop/Tesi/neural-astar/.venv/lib/python3.8/site-packages (from tensorboard>=2.5->neural_astar==0.2.0) (2.1.0)\n",
      "Requirement already satisfied: grpcio>=1.48.2 in /home/sam/Desktop/Tesi/neural-astar/.venv/lib/python3.8/site-packages (from tensorboard>=2.5->neural_astar==0.2.0) (1.62.1)\n",
      "Requirement already satisfied: google-auth<3,>=1.6.3 in /home/sam/Desktop/Tesi/neural-astar/.venv/lib/python3.8/site-packages (from tensorboard>=2.5->neural_astar==0.2.0) (2.29.0)\n",
      "Requirement already satisfied: google-auth-oauthlib<1.1,>=0.5 in /home/sam/Desktop/Tesi/neural-astar/.venv/lib/python3.8/site-packages (from tensorboard>=2.5->neural_astar==0.2.0) (1.0.0)\n",
      "Requirement already satisfied: markdown>=2.6.8 in /home/sam/Desktop/Tesi/neural-astar/.venv/lib/python3.8/site-packages (from tensorboard>=2.5->neural_astar==0.2.0) (3.6)\n",
      "Requirement already satisfied: protobuf>=3.19.6 in /home/sam/Desktop/Tesi/neural-astar/.venv/lib/python3.8/site-packages (from tensorboard>=2.5->neural_astar==0.2.0) (5.26.1)\n",
      "Requirement already satisfied: setuptools>=41.0.0 in /home/sam/Desktop/Tesi/neural-astar/.venv/lib/python3.8/site-packages (from tensorboard>=2.5->neural_astar==0.2.0) (69.5.1)\n",
      "Requirement already satisfied: tensorboard-data-server<0.8.0,>=0.7.0 in /home/sam/Desktop/Tesi/neural-astar/.venv/lib/python3.8/site-packages (from tensorboard>=2.5->neural_astar==0.2.0) (0.7.2)\n",
      "Requirement already satisfied: werkzeug>=1.0.1 in /home/sam/Desktop/Tesi/neural-astar/.venv/lib/python3.8/site-packages (from tensorboard>=2.5->neural_astar==0.2.0) (3.0.2)\n",
      "Requirement already satisfied: wheel>=0.26 in /home/sam/Desktop/Tesi/neural-astar/.venv/lib/python3.8/site-packages (from tensorboard>=2.5->neural_astar==0.2.0) (0.43.0)\n",
      "Requirement already satisfied: async-lru>=1.0.0 in /home/sam/Desktop/Tesi/neural-astar/.venv/lib/python3.8/site-packages (from jupyterlab->neural_astar==0.2.0) (2.0.4)\n",
      "Requirement already satisfied: httpx>=0.25.0 in /home/sam/Desktop/Tesi/neural-astar/.venv/lib/python3.8/site-packages (from jupyterlab->neural_astar==0.2.0) (0.27.0)\n",
      "Requirement already satisfied: importlib-metadata>=4.8.3 in /home/sam/Desktop/Tesi/neural-astar/.venv/lib/python3.8/site-packages (from jupyterlab->neural_astar==0.2.0) (7.1.0)\n",
      "Requirement already satisfied: ipykernel>=6.5.0 in /home/sam/Desktop/Tesi/neural-astar/.venv/lib/python3.8/site-packages (from jupyterlab->neural_astar==0.2.0) (6.29.4)\n",
      "Requirement already satisfied: jinja2>=3.0.3 in /home/sam/Desktop/Tesi/neural-astar/.venv/lib/python3.8/site-packages (from jupyterlab->neural_astar==0.2.0) (3.1.3)\n",
      "Requirement already satisfied: jupyter-core in /home/sam/Desktop/Tesi/neural-astar/.venv/lib/python3.8/site-packages (from jupyterlab->neural_astar==0.2.0) (5.7.2)\n",
      "Requirement already satisfied: jupyter-lsp>=2.0.0 in /home/sam/Desktop/Tesi/neural-astar/.venv/lib/python3.8/site-packages (from jupyterlab->neural_astar==0.2.0) (2.2.5)\n",
      "Requirement already satisfied: jupyter-server<3,>=2.4.0 in /home/sam/Desktop/Tesi/neural-astar/.venv/lib/python3.8/site-packages (from jupyterlab->neural_astar==0.2.0) (2.14.0)\n",
      "Requirement already satisfied: jupyterlab-server<3,>=2.19.0 in /home/sam/Desktop/Tesi/neural-astar/.venv/lib/python3.8/site-packages (from jupyterlab->neural_astar==0.2.0) (2.26.0)\n",
      "Requirement already satisfied: notebook-shim>=0.2 in /home/sam/Desktop/Tesi/neural-astar/.venv/lib/python3.8/site-packages (from jupyterlab->neural_astar==0.2.0) (0.2.4)\n",
      "Requirement already satisfied: tomli>=1.2.2 in /home/sam/Desktop/Tesi/neural-astar/.venv/lib/python3.8/site-packages (from jupyterlab->neural_astar==0.2.0) (2.0.1)\n",
      "Requirement already satisfied: tornado>=6.2.0 in /home/sam/Desktop/Tesi/neural-astar/.venv/lib/python3.8/site-packages (from jupyterlab->neural_astar==0.2.0) (6.4)\n",
      "Requirement already satisfied: traitlets in /home/sam/Desktop/Tesi/neural-astar/.venv/lib/python3.8/site-packages (from jupyterlab->neural_astar==0.2.0) (5.14.2)\n"
     ]
    },
    {
     "name": "stdout",
     "output_type": "stream",
     "text": [
      "Requirement already satisfied: contourpy>=1.0.1 in /home/sam/Desktop/Tesi/neural-astar/.venv/lib/python3.8/site-packages (from matplotlib->neural_astar==0.2.0) (1.1.1)\n",
      "Requirement already satisfied: cycler>=0.10 in /home/sam/Desktop/Tesi/neural-astar/.venv/lib/python3.8/site-packages (from matplotlib->neural_astar==0.2.0) (0.12.1)\n",
      "Requirement already satisfied: fonttools>=4.22.0 in /home/sam/Desktop/Tesi/neural-astar/.venv/lib/python3.8/site-packages (from matplotlib->neural_astar==0.2.0) (4.51.0)\n",
      "Requirement already satisfied: kiwisolver>=1.0.1 in /home/sam/Desktop/Tesi/neural-astar/.venv/lib/python3.8/site-packages (from matplotlib->neural_astar==0.2.0) (1.4.5)\n",
      "Requirement already satisfied: pyparsing>=2.3.1 in /home/sam/Desktop/Tesi/neural-astar/.venv/lib/python3.8/site-packages (from matplotlib->neural_astar==0.2.0) (3.1.2)\n",
      "Requirement already satisfied: python-dateutil>=2.7 in /home/sam/Desktop/Tesi/neural-astar/.venv/lib/python3.8/site-packages (from matplotlib->neural_astar==0.2.0) (2.9.0.post0)\n",
      "Requirement already satisfied: aiohttp!=4.0.0a0,!=4.0.0a1 in /home/sam/Desktop/Tesi/neural-astar/.venv/lib/python3.8/site-packages (from fsspec[http]>2021.06.0->pytorch-lightning==1.8.5.post0->neural_astar==0.2.0) (3.9.4)\n",
      "Requirement already satisfied: cachetools<6.0,>=2.0.0 in /home/sam/Desktop/Tesi/neural-astar/.venv/lib/python3.8/site-packages (from google-auth<3,>=1.6.3->tensorboard>=2.5->neural_astar==0.2.0) (5.3.3)\n",
      "Requirement already satisfied: pyasn1-modules>=0.2.1 in /home/sam/Desktop/Tesi/neural-astar/.venv/lib/python3.8/site-packages (from google-auth<3,>=1.6.3->tensorboard>=2.5->neural_astar==0.2.0) (0.4.0)\n",
      "Requirement already satisfied: rsa<5,>=3.1.4 in /home/sam/Desktop/Tesi/neural-astar/.venv/lib/python3.8/site-packages (from google-auth<3,>=1.6.3->tensorboard>=2.5->neural_astar==0.2.0) (4.9)\n",
      "Requirement already satisfied: requests-oauthlib>=0.7.0 in /home/sam/Desktop/Tesi/neural-astar/.venv/lib/python3.8/site-packages (from google-auth-oauthlib<1.1,>=0.5->tensorboard>=2.5->neural_astar==0.2.0) (2.0.0)\n",
      "Requirement already satisfied: anyio in /home/sam/Desktop/Tesi/neural-astar/.venv/lib/python3.8/site-packages (from httpx>=0.25.0->jupyterlab->neural_astar==0.2.0) (4.3.0)\n",
      "Requirement already satisfied: certifi in /home/sam/Desktop/Tesi/neural-astar/.venv/lib/python3.8/site-packages (from httpx>=0.25.0->jupyterlab->neural_astar==0.2.0) (2024.2.2)\n",
      "Requirement already satisfied: httpcore==1.* in /home/sam/Desktop/Tesi/neural-astar/.venv/lib/python3.8/site-packages (from httpx>=0.25.0->jupyterlab->neural_astar==0.2.0) (1.0.5)\n",
      "Requirement already satisfied: idna in /home/sam/Desktop/Tesi/neural-astar/.venv/lib/python3.8/site-packages (from httpx>=0.25.0->jupyterlab->neural_astar==0.2.0) (3.7)\n",
      "Requirement already satisfied: sniffio in /home/sam/Desktop/Tesi/neural-astar/.venv/lib/python3.8/site-packages (from httpx>=0.25.0->jupyterlab->neural_astar==0.2.0) (1.3.1)\n",
      "Requirement already satisfied: h11<0.15,>=0.13 in /home/sam/Desktop/Tesi/neural-astar/.venv/lib/python3.8/site-packages (from httpcore==1.*->httpx>=0.25.0->jupyterlab->neural_astar==0.2.0) (0.14.0)\n",
      "Requirement already satisfied: zipp>=0.5 in /home/sam/Desktop/Tesi/neural-astar/.venv/lib/python3.8/site-packages (from importlib-metadata>=4.8.3->jupyterlab->neural_astar==0.2.0) (3.18.1)\n",
      "Requirement already satisfied: comm>=0.1.1 in /home/sam/Desktop/Tesi/neural-astar/.venv/lib/python3.8/site-packages (from ipykernel>=6.5.0->jupyterlab->neural_astar==0.2.0) (0.2.2)\n",
      "Requirement already satisfied: debugpy>=1.6.5 in /home/sam/Desktop/Tesi/neural-astar/.venv/lib/python3.8/site-packages (from ipykernel>=6.5.0->jupyterlab->neural_astar==0.2.0) (1.8.1)\n",
      "Requirement already satisfied: ipython>=7.23.1 in /home/sam/Desktop/Tesi/neural-astar/.venv/lib/python3.8/site-packages (from ipykernel>=6.5.0->jupyterlab->neural_astar==0.2.0) (8.12.3)\n",
      "Requirement already satisfied: jupyter-client>=6.1.12 in /home/sam/Desktop/Tesi/neural-astar/.venv/lib/python3.8/site-packages (from ipykernel>=6.5.0->jupyterlab->neural_astar==0.2.0) (8.6.1)\n",
      "Requirement already satisfied: matplotlib-inline>=0.1 in /home/sam/Desktop/Tesi/neural-astar/.venv/lib/python3.8/site-packages (from ipykernel>=6.5.0->jupyterlab->neural_astar==0.2.0) (0.1.7)\n",
      "Requirement already satisfied: nest-asyncio in /home/sam/Desktop/Tesi/neural-astar/.venv/lib/python3.8/site-packages (from ipykernel>=6.5.0->jupyterlab->neural_astar==0.2.0) (1.6.0)\n",
      "Requirement already satisfied: psutil in /home/sam/Desktop/Tesi/neural-astar/.venv/lib/python3.8/site-packages (from ipykernel>=6.5.0->jupyterlab->neural_astar==0.2.0) (5.9.8)\n",
      "Requirement already satisfied: pyzmq>=24 in /home/sam/Desktop/Tesi/neural-astar/.venv/lib/python3.8/site-packages (from ipykernel>=6.5.0->jupyterlab->neural_astar==0.2.0) (26.0.0)\n",
      "Requirement already satisfied: MarkupSafe>=2.0 in /home/sam/Desktop/Tesi/neural-astar/.venv/lib/python3.8/site-packages (from jinja2>=3.0.3->jupyterlab->neural_astar==0.2.0) (2.1.5)\n",
      "Requirement already satisfied: platformdirs>=2.5 in /home/sam/Desktop/Tesi/neural-astar/.venv/lib/python3.8/site-packages (from jupyter-core->jupyterlab->neural_astar==0.2.0) (4.2.0)\n",
      "Requirement already satisfied: argon2-cffi>=21.1 in /home/sam/Desktop/Tesi/neural-astar/.venv/lib/python3.8/site-packages (from jupyter-server<3,>=2.4.0->jupyterlab->neural_astar==0.2.0) (23.1.0)\n",
      "Requirement already satisfied: jupyter-events>=0.9.0 in /home/sam/Desktop/Tesi/neural-astar/.venv/lib/python3.8/site-packages (from jupyter-server<3,>=2.4.0->jupyterlab->neural_astar==0.2.0) (0.10.0)\n",
      "Requirement already satisfied: jupyter-server-terminals>=0.4.4 in /home/sam/Desktop/Tesi/neural-astar/.venv/lib/python3.8/site-packages (from jupyter-server<3,>=2.4.0->jupyterlab->neural_astar==0.2.0) (0.5.3)\n",
      "Requirement already satisfied: nbconvert>=6.4.4 in /home/sam/Desktop/Tesi/neural-astar/.venv/lib/python3.8/site-packages (from jupyter-server<3,>=2.4.0->jupyterlab->neural_astar==0.2.0) (7.16.3)\n",
      "Requirement already satisfied: nbformat>=5.3.0 in /home/sam/Desktop/Tesi/neural-astar/.venv/lib/python3.8/site-packages (from jupyter-server<3,>=2.4.0->jupyterlab->neural_astar==0.2.0) (5.10.4)\n",
      "Requirement already satisfied: overrides>=5.0 in /home/sam/Desktop/Tesi/neural-astar/.venv/lib/python3.8/site-packages (from jupyter-server<3,>=2.4.0->jupyterlab->neural_astar==0.2.0) (7.7.0)\n",
      "Requirement already satisfied: prometheus-client>=0.9 in /home/sam/Desktop/Tesi/neural-astar/.venv/lib/python3.8/site-packages (from jupyter-server<3,>=2.4.0->jupyterlab->neural_astar==0.2.0) (0.20.0)\n",
      "Requirement already satisfied: send2trash>=1.8.2 in /home/sam/Desktop/Tesi/neural-astar/.venv/lib/python3.8/site-packages (from jupyter-server<3,>=2.4.0->jupyterlab->neural_astar==0.2.0) (1.8.3)\n",
      "Requirement already satisfied: terminado>=0.8.3 in /home/sam/Desktop/Tesi/neural-astar/.venv/lib/python3.8/site-packages (from jupyter-server<3,>=2.4.0->jupyterlab->neural_astar==0.2.0) (0.18.1)\n",
      "Requirement already satisfied: websocket-client>=1.7 in /home/sam/Desktop/Tesi/neural-astar/.venv/lib/python3.8/site-packages (from jupyter-server<3,>=2.4.0->jupyterlab->neural_astar==0.2.0) (1.7.0)\n",
      "Requirement already satisfied: babel>=2.10 in /home/sam/Desktop/Tesi/neural-astar/.venv/lib/python3.8/site-packages (from jupyterlab-server<3,>=2.19.0->jupyterlab->neural_astar==0.2.0) (2.14.0)\n",
      "Requirement already satisfied: json5>=0.9.0 in /home/sam/Desktop/Tesi/neural-astar/.venv/lib/python3.8/site-packages (from jupyterlab-server<3,>=2.19.0->jupyterlab->neural_astar==0.2.0) (0.9.25)\n",
      "Requirement already satisfied: jsonschema>=4.18.0 in /home/sam/Desktop/Tesi/neural-astar/.venv/lib/python3.8/site-packages (from jupyterlab-server<3,>=2.19.0->jupyterlab->neural_astar==0.2.0) (4.21.1)\n",
      "Requirement already satisfied: charset-normalizer<4,>=2 in /home/sam/Desktop/Tesi/neural-astar/.venv/lib/python3.8/site-packages (from requests->torchvision==0.13.1->neural_astar==0.2.0) (3.3.2)\n",
      "Requirement already satisfied: urllib3<3,>=1.21.1 in /home/sam/Desktop/Tesi/neural-astar/.venv/lib/python3.8/site-packages (from requests->torchvision==0.13.1->neural_astar==0.2.0) (2.2.1)\n",
      "Requirement already satisfied: aiosignal>=1.1.2 in /home/sam/Desktop/Tesi/neural-astar/.venv/lib/python3.8/site-packages (from aiohttp!=4.0.0a0,!=4.0.0a1->fsspec[http]>2021.06.0->pytorch-lightning==1.8.5.post0->neural_astar==0.2.0) (1.3.1)\n",
      "Requirement already satisfied: attrs>=17.3.0 in /home/sam/Desktop/Tesi/neural-astar/.venv/lib/python3.8/site-packages (from aiohttp!=4.0.0a0,!=4.0.0a1->fsspec[http]>2021.06.0->pytorch-lightning==1.8.5.post0->neural_astar==0.2.0) (23.2.0)\n",
      "Requirement already satisfied: frozenlist>=1.1.1 in /home/sam/Desktop/Tesi/neural-astar/.venv/lib/python3.8/site-packages (from aiohttp!=4.0.0a0,!=4.0.0a1->fsspec[http]>2021.06.0->pytorch-lightning==1.8.5.post0->neural_astar==0.2.0) (1.4.1)\n",
      "Requirement already satisfied: multidict<7.0,>=4.5 in /home/sam/Desktop/Tesi/neural-astar/.venv/lib/python3.8/site-packages (from aiohttp!=4.0.0a0,!=4.0.0a1->fsspec[http]>2021.06.0->pytorch-lightning==1.8.5.post0->neural_astar==0.2.0) (6.0.5)\n",
      "Requirement already satisfied: yarl<2.0,>=1.0 in /home/sam/Desktop/Tesi/neural-astar/.venv/lib/python3.8/site-packages (from aiohttp!=4.0.0a0,!=4.0.0a1->fsspec[http]>2021.06.0->pytorch-lightning==1.8.5.post0->neural_astar==0.2.0) (1.9.4)\n",
      "Requirement already satisfied: async-timeout<5.0,>=4.0 in /home/sam/Desktop/Tesi/neural-astar/.venv/lib/python3.8/site-packages (from aiohttp!=4.0.0a0,!=4.0.0a1->fsspec[http]>2021.06.0->pytorch-lightning==1.8.5.post0->neural_astar==0.2.0) (4.0.3)\n"
     ]
    },
    {
     "name": "stdout",
     "output_type": "stream",
     "text": [
      "Requirement already satisfied: exceptiongroup>=1.0.2 in /home/sam/Desktop/Tesi/neural-astar/.venv/lib/python3.8/site-packages (from anyio->httpx>=0.25.0->jupyterlab->neural_astar==0.2.0) (1.2.0)\n",
      "Requirement already satisfied: argon2-cffi-bindings in /home/sam/Desktop/Tesi/neural-astar/.venv/lib/python3.8/site-packages (from argon2-cffi>=21.1->jupyter-server<3,>=2.4.0->jupyterlab->neural_astar==0.2.0) (21.2.0)\n",
      "Requirement already satisfied: pytz>=2015.7 in /home/sam/Desktop/Tesi/neural-astar/.venv/lib/python3.8/site-packages (from babel>=2.10->jupyterlab-server<3,>=2.19.0->jupyterlab->neural_astar==0.2.0) (2024.1)\n",
      "Requirement already satisfied: backcall in /home/sam/Desktop/Tesi/neural-astar/.venv/lib/python3.8/site-packages (from ipython>=7.23.1->ipykernel>=6.5.0->jupyterlab->neural_astar==0.2.0) (0.2.0)\n",
      "Requirement already satisfied: jedi>=0.16 in /home/sam/Desktop/Tesi/neural-astar/.venv/lib/python3.8/site-packages (from ipython>=7.23.1->ipykernel>=6.5.0->jupyterlab->neural_astar==0.2.0) (0.19.1)\n",
      "Requirement already satisfied: pickleshare in /home/sam/Desktop/Tesi/neural-astar/.venv/lib/python3.8/site-packages (from ipython>=7.23.1->ipykernel>=6.5.0->jupyterlab->neural_astar==0.2.0) (0.7.5)\n",
      "Requirement already satisfied: prompt-toolkit!=3.0.37,<3.1.0,>=3.0.30 in /home/sam/Desktop/Tesi/neural-astar/.venv/lib/python3.8/site-packages (from ipython>=7.23.1->ipykernel>=6.5.0->jupyterlab->neural_astar==0.2.0) (3.0.43)\n",
      "Requirement already satisfied: pygments>=2.4.0 in /home/sam/Desktop/Tesi/neural-astar/.venv/lib/python3.8/site-packages (from ipython>=7.23.1->ipykernel>=6.5.0->jupyterlab->neural_astar==0.2.0) (2.17.2)\n",
      "Requirement already satisfied: stack-data in /home/sam/Desktop/Tesi/neural-astar/.venv/lib/python3.8/site-packages (from ipython>=7.23.1->ipykernel>=6.5.0->jupyterlab->neural_astar==0.2.0) (0.6.3)\n",
      "Requirement already satisfied: pexpect>4.3 in /home/sam/Desktop/Tesi/neural-astar/.venv/lib/python3.8/site-packages (from ipython>=7.23.1->ipykernel>=6.5.0->jupyterlab->neural_astar==0.2.0) (4.9.0)\n",
      "Requirement already satisfied: jsonschema-specifications>=2023.03.6 in /home/sam/Desktop/Tesi/neural-astar/.venv/lib/python3.8/site-packages (from jsonschema>=4.18.0->jupyterlab-server<3,>=2.19.0->jupyterlab->neural_astar==0.2.0) (2023.12.1)\n",
      "Requirement already satisfied: pkgutil-resolve-name>=1.3.10 in /home/sam/Desktop/Tesi/neural-astar/.venv/lib/python3.8/site-packages (from jsonschema>=4.18.0->jupyterlab-server<3,>=2.19.0->jupyterlab->neural_astar==0.2.0) (1.3.10)\n",
      "Requirement already satisfied: referencing>=0.28.4 in /home/sam/Desktop/Tesi/neural-astar/.venv/lib/python3.8/site-packages (from jsonschema>=4.18.0->jupyterlab-server<3,>=2.19.0->jupyterlab->neural_astar==0.2.0) (0.34.0)\n",
      "Requirement already satisfied: rpds-py>=0.7.1 in /home/sam/Desktop/Tesi/neural-astar/.venv/lib/python3.8/site-packages (from jsonschema>=4.18.0->jupyterlab-server<3,>=2.19.0->jupyterlab->neural_astar==0.2.0) (0.18.0)\n",
      "Requirement already satisfied: python-json-logger>=2.0.4 in /home/sam/Desktop/Tesi/neural-astar/.venv/lib/python3.8/site-packages (from jupyter-events>=0.9.0->jupyter-server<3,>=2.4.0->jupyterlab->neural_astar==0.2.0) (2.0.7)\n",
      "Requirement already satisfied: rfc3339-validator in /home/sam/Desktop/Tesi/neural-astar/.venv/lib/python3.8/site-packages (from jupyter-events>=0.9.0->jupyter-server<3,>=2.4.0->jupyterlab->neural_astar==0.2.0) (0.1.4)\n",
      "Requirement already satisfied: rfc3986-validator>=0.1.1 in /home/sam/Desktop/Tesi/neural-astar/.venv/lib/python3.8/site-packages (from jupyter-events>=0.9.0->jupyter-server<3,>=2.4.0->jupyterlab->neural_astar==0.2.0) (0.1.1)\n",
      "Requirement already satisfied: beautifulsoup4 in /home/sam/Desktop/Tesi/neural-astar/.venv/lib/python3.8/site-packages (from nbconvert>=6.4.4->jupyter-server<3,>=2.4.0->jupyterlab->neural_astar==0.2.0) (4.12.3)\n",
      "Requirement already satisfied: bleach!=5.0.0 in /home/sam/Desktop/Tesi/neural-astar/.venv/lib/python3.8/site-packages (from nbconvert>=6.4.4->jupyter-server<3,>=2.4.0->jupyterlab->neural_astar==0.2.0) (6.1.0)\n",
      "Requirement already satisfied: defusedxml in /home/sam/Desktop/Tesi/neural-astar/.venv/lib/python3.8/site-packages (from nbconvert>=6.4.4->jupyter-server<3,>=2.4.0->jupyterlab->neural_astar==0.2.0) (0.7.1)\n",
      "Requirement already satisfied: jupyterlab-pygments in /home/sam/Desktop/Tesi/neural-astar/.venv/lib/python3.8/site-packages (from nbconvert>=6.4.4->jupyter-server<3,>=2.4.0->jupyterlab->neural_astar==0.2.0) (0.3.0)\n",
      "Requirement already satisfied: mistune<4,>=2.0.3 in /home/sam/Desktop/Tesi/neural-astar/.venv/lib/python3.8/site-packages (from nbconvert>=6.4.4->jupyter-server<3,>=2.4.0->jupyterlab->neural_astar==0.2.0) (3.0.2)\n",
      "Requirement already satisfied: nbclient>=0.5.0 in /home/sam/Desktop/Tesi/neural-astar/.venv/lib/python3.8/site-packages (from nbconvert>=6.4.4->jupyter-server<3,>=2.4.0->jupyterlab->neural_astar==0.2.0) (0.10.0)\n",
      "Requirement already satisfied: pandocfilters>=1.4.1 in /home/sam/Desktop/Tesi/neural-astar/.venv/lib/python3.8/site-packages (from nbconvert>=6.4.4->jupyter-server<3,>=2.4.0->jupyterlab->neural_astar==0.2.0) (1.5.1)\n",
      "Requirement already satisfied: tinycss2 in /home/sam/Desktop/Tesi/neural-astar/.venv/lib/python3.8/site-packages (from nbconvert>=6.4.4->jupyter-server<3,>=2.4.0->jupyterlab->neural_astar==0.2.0) (1.2.1)\n",
      "Requirement already satisfied: fastjsonschema>=2.15 in /home/sam/Desktop/Tesi/neural-astar/.venv/lib/python3.8/site-packages (from nbformat>=5.3.0->jupyter-server<3,>=2.4.0->jupyterlab->neural_astar==0.2.0) (2.19.1)\n",
      "Requirement already satisfied: pyasn1<0.7.0,>=0.4.6 in /home/sam/Desktop/Tesi/neural-astar/.venv/lib/python3.8/site-packages (from pyasn1-modules>=0.2.1->google-auth<3,>=1.6.3->tensorboard>=2.5->neural_astar==0.2.0) (0.6.0)\n",
      "Requirement already satisfied: oauthlib>=3.0.0 in /home/sam/Desktop/Tesi/neural-astar/.venv/lib/python3.8/site-packages (from requests-oauthlib>=0.7.0->google-auth-oauthlib<1.1,>=0.5->tensorboard>=2.5->neural_astar==0.2.0) (3.2.2)\n",
      "Requirement already satisfied: ptyprocess in /home/sam/Desktop/Tesi/neural-astar/.venv/lib/python3.8/site-packages (from terminado>=0.8.3->jupyter-server<3,>=2.4.0->jupyterlab->neural_astar==0.2.0) (0.7.0)\n",
      "Requirement already satisfied: webencodings in /home/sam/Desktop/Tesi/neural-astar/.venv/lib/python3.8/site-packages (from bleach!=5.0.0->nbconvert>=6.4.4->jupyter-server<3,>=2.4.0->jupyterlab->neural_astar==0.2.0) (0.5.1)\n",
      "Requirement already satisfied: parso<0.9.0,>=0.8.3 in /home/sam/Desktop/Tesi/neural-astar/.venv/lib/python3.8/site-packages (from jedi>=0.16->ipython>=7.23.1->ipykernel>=6.5.0->jupyterlab->neural_astar==0.2.0) (0.8.4)\n",
      "Requirement already satisfied: fqdn in /home/sam/Desktop/Tesi/neural-astar/.venv/lib/python3.8/site-packages (from jsonschema[format-nongpl]>=4.18.0->jupyter-events>=0.9.0->jupyter-server<3,>=2.4.0->jupyterlab->neural_astar==0.2.0) (1.5.1)\n",
      "Requirement already satisfied: isoduration in /home/sam/Desktop/Tesi/neural-astar/.venv/lib/python3.8/site-packages (from jsonschema[format-nongpl]>=4.18.0->jupyter-events>=0.9.0->jupyter-server<3,>=2.4.0->jupyterlab->neural_astar==0.2.0) (20.11.0)\n",
      "Requirement already satisfied: jsonpointer>1.13 in /home/sam/Desktop/Tesi/neural-astar/.venv/lib/python3.8/site-packages (from jsonschema[format-nongpl]>=4.18.0->jupyter-events>=0.9.0->jupyter-server<3,>=2.4.0->jupyterlab->neural_astar==0.2.0) (2.4)\n",
      "Requirement already satisfied: uri-template in /home/sam/Desktop/Tesi/neural-astar/.venv/lib/python3.8/site-packages (from jsonschema[format-nongpl]>=4.18.0->jupyter-events>=0.9.0->jupyter-server<3,>=2.4.0->jupyterlab->neural_astar==0.2.0) (1.3.0)\n",
      "Requirement already satisfied: webcolors>=1.11 in /home/sam/Desktop/Tesi/neural-astar/.venv/lib/python3.8/site-packages (from jsonschema[format-nongpl]>=4.18.0->jupyter-events>=0.9.0->jupyter-server<3,>=2.4.0->jupyterlab->neural_astar==0.2.0) (1.13)\n",
      "Requirement already satisfied: wcwidth in /home/sam/Desktop/Tesi/neural-astar/.venv/lib/python3.8/site-packages (from prompt-toolkit!=3.0.37,<3.1.0,>=3.0.30->ipython>=7.23.1->ipykernel>=6.5.0->jupyterlab->neural_astar==0.2.0) (0.2.13)\n",
      "Requirement already satisfied: cffi>=1.0.1 in /home/sam/Desktop/Tesi/neural-astar/.venv/lib/python3.8/site-packages (from argon2-cffi-bindings->argon2-cffi>=21.1->jupyter-server<3,>=2.4.0->jupyterlab->neural_astar==0.2.0) (1.16.0)\n"
     ]
    },
    {
     "name": "stdout",
     "output_type": "stream",
     "text": [
      "Requirement already satisfied: soupsieve>1.2 in /home/sam/Desktop/Tesi/neural-astar/.venv/lib/python3.8/site-packages (from beautifulsoup4->nbconvert>=6.4.4->jupyter-server<3,>=2.4.0->jupyterlab->neural_astar==0.2.0) (2.5)\n",
      "Requirement already satisfied: executing>=1.2.0 in /home/sam/Desktop/Tesi/neural-astar/.venv/lib/python3.8/site-packages (from stack-data->ipython>=7.23.1->ipykernel>=6.5.0->jupyterlab->neural_astar==0.2.0) (2.0.1)\n",
      "Requirement already satisfied: asttokens>=2.1.0 in /home/sam/Desktop/Tesi/neural-astar/.venv/lib/python3.8/site-packages (from stack-data->ipython>=7.23.1->ipykernel>=6.5.0->jupyterlab->neural_astar==0.2.0) (2.4.1)\n",
      "Requirement already satisfied: pure-eval in /home/sam/Desktop/Tesi/neural-astar/.venv/lib/python3.8/site-packages (from stack-data->ipython>=7.23.1->ipykernel>=6.5.0->jupyterlab->neural_astar==0.2.0) (0.2.2)\n",
      "Requirement already satisfied: pycparser in /home/sam/Desktop/Tesi/neural-astar/.venv/lib/python3.8/site-packages (from cffi>=1.0.1->argon2-cffi-bindings->argon2-cffi>=21.1->jupyter-server<3,>=2.4.0->jupyterlab->neural_astar==0.2.0) (2.22)\n",
      "Requirement already satisfied: arrow>=0.15.0 in /home/sam/Desktop/Tesi/neural-astar/.venv/lib/python3.8/site-packages (from isoduration->jsonschema[format-nongpl]>=4.18.0->jupyter-events>=0.9.0->jupyter-server<3,>=2.4.0->jupyterlab->neural_astar==0.2.0) (1.3.0)\n",
      "Requirement already satisfied: types-python-dateutil>=2.8.10 in /home/sam/Desktop/Tesi/neural-astar/.venv/lib/python3.8/site-packages (from arrow>=0.15.0->isoduration->jsonschema[format-nongpl]>=4.18.0->jupyter-events>=0.9.0->jupyter-server<3,>=2.4.0->jupyterlab->neural_astar==0.2.0) (2.9.0.20240316)\n",
      "Building wheels for collected packages: neural_astar\n",
      "  Building wheel for neural_astar (pyproject.toml) ... \u001b[?25ldone\n",
      "\u001b[?25h  Created wheel for neural_astar: filename=neural_astar-0.2.0-py3-none-any.whl size=14373 sha256=68d266967ce19d96df6bbd2f66af2e5504d49e3de8f151585862407780de815f\n",
      "  Stored in directory: /home/sam/.cache/pip/wheels/84/2c/12/180aa8c7c640015fff123429db2259095664be61e6ead16b3c\n",
      "Successfully built neural_astar\n",
      "Installing collected packages: neural_astar\n",
      "  Attempting uninstall: neural_astar\n",
      "    Found existing installation: neural_astar 0.2.0\n",
      "    Uninstalling neural_astar-0.2.0:\n",
      "      Successfully uninstalled neural_astar-0.2.0\n",
      "Successfully installed neural_astar-0.2.0\n"
     ]
    }
   ],
   "source": [
    "%cd neural-astar\n",
    "!pip install -U pip setuptools\n",
    "!pip install ."
   ]
  },
  {
   "cell_type": "markdown",
   "id": "31c233be-e0b7-481f-aec1-6dedbfcbd411",
   "metadata": {},
   "source": [
    "## Shortest path search with Neural A* \n",
    "\n",
    "Neural A\\*, as well as vanilla differentiable A\\* can be instantiated just like a neural network module."
   ]
  },
  {
   "cell_type": "code",
   "execution_count": 3,
   "id": "3be60ed1-dc18-421a-9ee0-598254bdd19c",
   "metadata": {},
   "outputs": [
    {
     "ename": "ModuleNotFoundError",
     "evalue": "No module named 'torch'",
     "output_type": "error",
     "traceback": [
      "\u001b[0;31m---------------------------------------------------------------------------\u001b[0m",
      "\u001b[0;31mModuleNotFoundError\u001b[0m                       Traceback (most recent call last)",
      "\u001b[0;32m/tmp/ipykernel_7286/4184543670.py\u001b[0m in \u001b[0;36m<module>\u001b[0;34m\u001b[0m\n\u001b[0;32m----> 1\u001b[0;31m \u001b[0;32mimport\u001b[0m \u001b[0mtorch\u001b[0m\u001b[0;34m\u001b[0m\u001b[0;34m\u001b[0m\u001b[0m\n\u001b[0m\u001b[1;32m      2\u001b[0m \u001b[0;32mfrom\u001b[0m \u001b[0mneural_astar\u001b[0m\u001b[0;34m.\u001b[0m\u001b[0mplanner\u001b[0m \u001b[0;32mimport\u001b[0m \u001b[0mNeuralAstar\u001b[0m\u001b[0;34m,\u001b[0m \u001b[0mVanillaAstar\u001b[0m\u001b[0;34m\u001b[0m\u001b[0;34m\u001b[0m\u001b[0m\n\u001b[1;32m      3\u001b[0m \u001b[0;32mfrom\u001b[0m \u001b[0mneural_astar\u001b[0m\u001b[0;34m.\u001b[0m\u001b[0mutils\u001b[0m\u001b[0;34m.\u001b[0m\u001b[0mtraining\u001b[0m \u001b[0;32mimport\u001b[0m \u001b[0mload_from_ptl_checkpoint\u001b[0m\u001b[0;34m\u001b[0m\u001b[0;34m\u001b[0m\u001b[0m\n\u001b[1;32m      4\u001b[0m \u001b[0;34m\u001b[0m\u001b[0m\n\u001b[1;32m      5\u001b[0m \u001b[0mdevice\u001b[0m \u001b[0;34m=\u001b[0m \u001b[0;34m\"cuda\"\u001b[0m \u001b[0;32mif\u001b[0m \u001b[0mtorch\u001b[0m\u001b[0;34m.\u001b[0m\u001b[0mcuda\u001b[0m\u001b[0;34m.\u001b[0m\u001b[0mis_available\u001b[0m\u001b[0;34m(\u001b[0m\u001b[0;34m)\u001b[0m \u001b[0;32melse\u001b[0m \u001b[0;34m\"cpu\"\u001b[0m\u001b[0;34m\u001b[0m\u001b[0;34m\u001b[0m\u001b[0m\n",
      "\u001b[0;31mModuleNotFoundError\u001b[0m: No module named 'torch'"
     ]
    }
   ],
   "source": [
    "import torch\n",
    "from neural_astar.planner import NeuralAstar, VanillaAstar\n",
    "from neural_astar.utils.training import load_from_ptl_checkpoint\n",
    "\n",
    "device = \"cuda\" if torch.cuda.is_available() else \"cpu\"\n",
    "\n",
    "neural_astar = NeuralAstar(encoder_arch='CNN').to(device)\n",
    "neural_astar.load_state_dict(load_from_ptl_checkpoint(\"../model/mazes_032_moore_c8/lightning_logs/\"))\n",
    "\n",
    "vanilla_astar = VanillaAstar().to(device)"
   ]
  },
  {
   "cell_type": "markdown",
   "id": "4bccd8a3-0e8f-49b9-8f25-8dabc1f27bc6",
   "metadata": {},
   "source": [
    "Running these A\\* modules requires `map_designs` (obstacle layouts), `start_maps`, and `goal_maps` (one-hot maps indicating start and goal locations), which should each have the shape of `(batch_size, 1, map_size, map_size)`."
   ]
  },
  {
   "cell_type": "code",
   "execution_count": null,
   "id": "65e0113e-7cc9-4adc-b04b-d1f5dc18e30c",
   "metadata": {},
   "outputs": [],
   "source": [
    "import matplotlib.pyplot as plt\n",
    "from neural_astar.utils.data import create_dataloader\n",
    "\n",
    "dataloader = create_dataloader(\"../planning-datasets/data/mpd/mazes_032_moore_c8.npz\", \"test\", 8)\n",
    "map_designs, start_maps, goal_maps, _ = next(iter(dataloader))\n",
    "\n",
    "fig, axes = plt.subplots(2, 3, figsize=[8, 5])\n",
    "for i in range(2):\n",
    "    axes[i, 0].imshow(map_designs.numpy()[i, 0])\n",
    "    axes[i, 0].set_title(\"map_design\")\n",
    "    axes[i, 0].axis(\"off\")\n",
    "    axes[i, 1].imshow(start_maps.numpy()[i, 0])\n",
    "    axes[i, 1].set_title(\"start_map\")\n",
    "    axes[i, 1].axis(\"off\")\n",
    "    axes[i, 2].imshow(goal_maps.numpy()[i, 0])\n",
    "    axes[i, 2].set_title(\"goal_map\")\n",
    "    axes[i, 2].axis(\"off\")"
   ]
  },
  {
   "cell_type": "markdown",
   "id": "7c1b7e1b-cd15-4e4e-ab53-9324351c2797",
   "metadata": {},
   "source": [
    "Then, search can be performed by simply forwarding the model. The output is namedtuple `AstarOutput` with `histories` (search history maps) and `paths` (path maps)."
   ]
  },
  {
   "cell_type": "code",
   "execution_count": null,
   "id": "dbe81f3f-6f19-46cc-ad24-74c00151e28f",
   "metadata": {},
   "outputs": [],
   "source": [
    "from neural_astar.utils.data import visualize_results\n",
    "\n",
    "neural_astar.eval()\n",
    "na_outputs = neural_astar(map_designs.to(device), start_maps.to(device), goal_maps.to(device))\n",
    "vanilla_astar.eval()\n",
    "va_outputs = vanilla_astar(map_designs.to(device), start_maps.to(device), goal_maps.to(device))\n",
    "\n",
    "fig, axes = plt.subplots(2, 1, figsize=[12, 4])\n",
    "axes[0].imshow(visualize_results(map_designs, na_outputs))\n",
    "axes[0].set_title(\"Neural A*\")\n",
    "axes[0].axis(\"off\")\n",
    "axes[1].imshow(visualize_results(map_designs, va_outputs))\n",
    "axes[1].set_title(\"Vanilla A*\")\n",
    "axes[1].axis(\"off\")"
   ]
  },
  {
   "cell_type": "code",
   "execution_count": null,
   "id": "dc2a6ef6-95d8-46df-a6a7-065ea4225196",
   "metadata": {},
   "outputs": [],
   "source": []
  }
 ],
 "metadata": {
  "kernelspec": {
   "display_name": "Python 3 (ipykernel)",
   "language": "python",
   "name": "python3"
  },
  "language_info": {
   "codemirror_mode": {
    "name": "ipython",
    "version": 3
   },
   "file_extension": ".py",
   "mimetype": "text/x-python",
   "name": "python",
   "nbconvert_exporter": "python",
   "pygments_lexer": "ipython3",
   "version": "3.10.12"
  }
 },
 "nbformat": 4,
 "nbformat_minor": 5
}
